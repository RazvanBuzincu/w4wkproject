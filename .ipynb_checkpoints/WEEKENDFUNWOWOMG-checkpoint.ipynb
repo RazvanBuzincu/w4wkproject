{
 "cells": [
  {
   "cell_type": "code",
   "execution_count": 2,
   "id": "ef5f908a-251f-4e8d-bfe2-1087c118cc3b",
   "metadata": {},
   "outputs": [
    {
     "name": "stdout",
     "output_type": "stream",
     "text": [
      "1. Create User\n",
      "2. Add Property to User\n",
      "3. Add Expense to Property\n",
      "4. Add Income to Property\n",
      "5. Calculate ROI for Property\n",
      "6. Display ROI for Property\n",
      "0. Exit\n"
     ]
    },
    {
     "name": "stdin",
     "output_type": "stream",
     "text": [
      "Enter your choice:  1\n",
      "Enter user name:  Razvan\n"
     ]
    },
    {
     "name": "stdout",
     "output_type": "stream",
     "text": [
      "User 'Razvan' created.\n",
      "1. Create User\n",
      "2. Add Property to User\n",
      "3. Add Expense to Property\n",
      "4. Add Income to Property\n",
      "5. Calculate ROI for Property\n",
      "6. Display ROI for Property\n",
      "0. Exit\n"
     ]
    },
    {
     "name": "stdin",
     "output_type": "stream",
     "text": [
      "Enter your choice:  2\n",
      "Enter property name:  Home\n"
     ]
    },
    {
     "name": "stdout",
     "output_type": "stream",
     "text": [
      "Property 'Home' added to User 'Razvan'.\n",
      "1. Create User\n",
      "2. Add Property to User\n",
      "3. Add Expense to Property\n",
      "4. Add Income to Property\n",
      "5. Calculate ROI for Property\n",
      "6. Display ROI for Property\n",
      "0. Exit\n"
     ]
    },
    {
     "name": "stdin",
     "output_type": "stream",
     "text": [
      "Enter your choice:  3\n",
      "Enter expense name:  Electricity\n",
      "Enter expense amount:  200\n"
     ]
    },
    {
     "name": "stdout",
     "output_type": "stream",
     "text": [
      "Expense 'Electricity' added to Property 'Home'.\n",
      "1. Create User\n",
      "2. Add Property to User\n",
      "3. Add Expense to Property\n",
      "4. Add Income to Property\n",
      "5. Calculate ROI for Property\n",
      "6. Display ROI for Property\n",
      "0. Exit\n"
     ]
    },
    {
     "name": "stdin",
     "output_type": "stream",
     "text": [
      "Enter your choice:  Cleaning\n"
     ]
    },
    {
     "name": "stdout",
     "output_type": "stream",
     "text": [
      "Invalid choice. Please try again.\n",
      "1. Create User\n",
      "2. Add Property to User\n",
      "3. Add Expense to Property\n",
      "4. Add Income to Property\n",
      "5. Calculate ROI for Property\n",
      "6. Display ROI for Property\n",
      "0. Exit\n"
     ]
    },
    {
     "name": "stdin",
     "output_type": "stream",
     "text": [
      "Enter your choice:  150\n"
     ]
    },
    {
     "name": "stdout",
     "output_type": "stream",
     "text": [
      "Invalid choice. Please try again.\n",
      "1. Create User\n",
      "2. Add Property to User\n",
      "3. Add Expense to Property\n",
      "4. Add Income to Property\n",
      "5. Calculate ROI for Property\n",
      "6. Display ROI for Property\n",
      "0. Exit\n"
     ]
    },
    {
     "name": "stdin",
     "output_type": "stream",
     "text": [
      "Enter your choice:  3\n",
      "Enter expense name:  Cleaning\n",
      "Enter expense amount:  300\n"
     ]
    },
    {
     "name": "stdout",
     "output_type": "stream",
     "text": [
      "Expense 'Cleaning' added to Property 'Home'.\n",
      "1. Create User\n",
      "2. Add Property to User\n",
      "3. Add Expense to Property\n",
      "4. Add Income to Property\n",
      "5. Calculate ROI for Property\n",
      "6. Display ROI for Property\n",
      "0. Exit\n"
     ]
    },
    {
     "name": "stdin",
     "output_type": "stream",
     "text": [
      "Enter your choice:  4\n",
      "Enter income name:  Salary\n",
      "Enter income amount:  1800\n"
     ]
    },
    {
     "name": "stdout",
     "output_type": "stream",
     "text": [
      "Income 'Salary' added to Property 'Home'.\n",
      "1. Create User\n",
      "2. Add Property to User\n",
      "3. Add Expense to Property\n",
      "4. Add Income to Property\n",
      "5. Calculate ROI for Property\n",
      "6. Display ROI for Property\n",
      "0. Exit\n"
     ]
    },
    {
     "name": "stdin",
     "output_type": "stream",
     "text": [
      "Enter your choice:  5\n"
     ]
    },
    {
     "name": "stdout",
     "output_type": "stream",
     "text": [
      "ROI calculated for Property 'Home'.\n",
      "1. Create User\n",
      "2. Add Property to User\n",
      "3. Add Expense to Property\n",
      "4. Add Income to Property\n",
      "5. Calculate ROI for Property\n",
      "6. Display ROI for Property\n",
      "0. Exit\n"
     ]
    },
    {
     "name": "stdin",
     "output_type": "stream",
     "text": [
      "Enter your choice:  6\n"
     ]
    },
    {
     "name": "stdout",
     "output_type": "stream",
     "text": [
      "ROI for Property Home: 260.00%\n",
      "1. Create User\n",
      "2. Add Property to User\n",
      "3. Add Expense to Property\n",
      "4. Add Income to Property\n",
      "5. Calculate ROI for Property\n",
      "6. Display ROI for Property\n",
      "0. Exit\n"
     ]
    },
    {
     "name": "stdin",
     "output_type": "stream",
     "text": [
      "Enter your choice:  0\n"
     ]
    }
   ],
   "source": [
    "class ExpIncome:\n",
    "    def __init__(self, name, amount):\n",
    "        self.name = name\n",
    "        self.amount = amount\n",
    "\n",
    "\n",
    "class Property:\n",
    "    def __init__(self, name):\n",
    "        # using empy dictionaries for expenses and incomes\n",
    "        self.name = name\n",
    "        self.expenses = {}\n",
    "        self.incomes = {}\n",
    "        self.roi = None\n",
    "\n",
    "    # add an expense to the property\n",
    "    def add_expense(self, name, amount):\n",
    "        self.expenses[name] = amount\n",
    "\n",
    "    # add an income to the property\n",
    "    def add_income(self, name, amount):\n",
    "        self.incomes[name] = amount\n",
    "\n",
    "    # calculate ROI for the property\n",
    "    def calculate_roi(self):\n",
    "        total_expenses = sum(self.expenses.values())\n",
    "        total_incomes = sum(self.incomes.values())\n",
    "        self.roi = (total_incomes - total_expenses) / total_expenses * 100 if total_expenses != 0 else 0\n",
    "\n",
    "    # display the ROI for the property\n",
    "    def display_roi(self):\n",
    "        if self.roi is not None:\n",
    "            print(f\"ROI for Property {self.name}: {self.roi:.2f}%\")\n",
    "        else:\n",
    "            print(\"ROI not calculated. Please calculate ROI first.\")\n",
    "\n",
    "\n",
    "class User:\n",
    "    def __init__(self, name):\n",
    "        self.name = name\n",
    "        self.properties = {}\n",
    "\n",
    "    # add a property to the user\n",
    "    def add_property(self, property_name):\n",
    "        self.properties[property_name] = Property(property_name)\n",
    "        return self.properties[property_name]\n",
    "\n",
    "\n",
    "def calculator():\n",
    "     # keep track of the current user and property with empty dict\n",
    "    users = {} \n",
    "    current_user = None\n",
    "    current_property = None\n",
    "\n",
    "    while True:\n",
    "        print(\"1. Create User\")\n",
    "        print(\"2. Add Property to User\")\n",
    "        print(\"3. Add Expense to Property\")\n",
    "        print(\"4. Add Income to Property\")\n",
    "        print(\"5. Calculate ROI for Property\")\n",
    "        print(\"6. Display ROI for Property\")\n",
    "        print(\"0. Exit\")\n",
    "\n",
    "        choice = input(\"Enter your choice: \")\n",
    "\n",
    "        if choice == '1':           \n",
    "            user_name = input(\"Enter user name: \")\n",
    "            current_user = User(user_name)\n",
    "            users[user_name] = current_user\n",
    "            print(f\"User '{user_name}' created.\")\n",
    "\n",
    "        elif choice == '2':\n",
    "            if not users:\n",
    "                print(\"No users found. Please create a user first.\")\n",
    "                continue           \n",
    "            property_name = input(\"Enter property name: \")\n",
    "            current_property = current_user.add_property(property_name)\n",
    "            print(f\"Property '{property_name}' added to User '{current_user.name}'.\")\n",
    "\n",
    "        elif choice == '3':            \n",
    "            if not current_user or not current_property:\n",
    "                print(\"No user or property found. Please create a user and property first.\")\n",
    "                continue\n",
    "            expense_name = input(\"Enter expense name: \")\n",
    "            expense_amount = float(input(\"Enter expense amount: \"))\n",
    "            current_property.add_expense(expense_name, expense_amount)\n",
    "            print(f\"Expense '{expense_name}' added to Property '{current_property.name}'.\")\n",
    "\n",
    "        elif choice == '4':            \n",
    "            if not current_user or not current_property:\n",
    "                print(\"No user or property found. Please create a user and property first.\")\n",
    "                continue\n",
    "            income_name = input(\"Enter income name: \")\n",
    "            income_amount = float(input(\"Enter income amount: \"))\n",
    "            current_property.add_income(income_name, income_amount)\n",
    "            print(f\"Income '{income_name}' added to Property '{current_property.name}'.\")\n",
    "\n",
    "        elif choice == '5':            \n",
    "            if not current_user or not current_property:\n",
    "                print(\"No user or property found. Please create a user and property first.\")\n",
    "                continue\n",
    "            current_property.calculate_roi()\n",
    "            print(f\"ROI calculated for Property '{current_property.name}'.\")\n",
    "\n",
    "        elif choice == '6':          \n",
    "            if not current_user or not current_property:\n",
    "                print(\"No user or property found. Please create a user and property first.\")\n",
    "                continue\n",
    "            current_property.display_roi()\n",
    "\n",
    "        elif choice == '0':\n",
    "            \n",
    "            break\n",
    "\n",
    "        else:\n",
    "            print(\"Invalid choice. Please try again.\")\n",
    "\n",
    "\n",
    "calculator()\n",
    "\n",
    "# the improvements i would like to make but i dont know how\n",
    "# is that the program would not print evey single option every time its so bad for the eyes"
   ]
  },
  {
   "cell_type": "code",
   "execution_count": null,
   "id": "1c4b090f-3c90-4662-950b-5593b3e2ecf5",
   "metadata": {},
   "outputs": [],
   "source": []
  }
 ],
 "metadata": {
  "kernelspec": {
   "display_name": "Python 3 (ipykernel)",
   "language": "python",
   "name": "python3"
  },
  "language_info": {
   "codemirror_mode": {
    "name": "ipython",
    "version": 3
   },
   "file_extension": ".py",
   "mimetype": "text/x-python",
   "name": "python",
   "nbconvert_exporter": "python",
   "pygments_lexer": "ipython3",
   "version": "3.12.1"
  }
 },
 "nbformat": 4,
 "nbformat_minor": 5
}
